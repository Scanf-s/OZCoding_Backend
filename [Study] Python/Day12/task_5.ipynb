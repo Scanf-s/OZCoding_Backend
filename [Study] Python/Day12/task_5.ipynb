{
 "cells": [
  {
   "cell_type": "markdown",
   "metadata": {},
   "source": [
    "datetime 모듈을 사용하여 현재 날짜와 시간을 출력하는 프로그램을 작성하세요. \n",
    "\n",
    "또한, 사용자로부터 태어난 년도를 입력받아 현재 나이를 계산하여 출력하세요."
   ]
  },
  {
   "cell_type": "code",
   "execution_count": 6,
   "metadata": {},
   "outputs": [
    {
     "name": "stdout",
     "output_type": "stream",
     "text": [
      "현재 날짜:  2024-04-06 18:55:29.126347\n",
      "태어난 년도 입력 : \n",
      "당신의 나이는 : 25\n"
     ]
    }
   ],
   "source": [
    "import datetime as dt\n",
    "\n",
    "cur = dt.datetime.now()\n",
    "\n",
    "print(\"현재 날짜: \", cur)\n",
    "print(\"태어난 년도 입력 : \")\n",
    "n = int(input())\n",
    "print(f'당신의 나이는 : {cur.year - n + 1}')"
   ]
  }
 ],
 "metadata": {
  "kernelspec": {
   "display_name": "Python 3",
   "language": "python",
   "name": "python3"
  },
  "language_info": {
   "codemirror_mode": {
    "name": "ipython",
    "version": 3
   },
   "file_extension": ".py",
   "mimetype": "text/x-python",
   "name": "python",
   "nbconvert_exporter": "python",
   "pygments_lexer": "ipython3",
   "version": "3.12.2"
  }
 },
 "nbformat": 4,
 "nbformat_minor": 2
}
