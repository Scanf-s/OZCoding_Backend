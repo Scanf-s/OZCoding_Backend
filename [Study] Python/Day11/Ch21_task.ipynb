{
 "cells": [
  {
   "cell_type": "markdown",
   "metadata": {},
   "source": [
    "사용자로부터 이름과 나이를 입력 받아, \"안녕하세요, [이름]님! 당신은 [나이]살입니다.\"<br>\n",
    "라고 출력하는 함수 greet_user를 작성하세요."
   ]
  },
  {
   "cell_type": "code",
   "execution_count": null,
   "metadata": {},
   "outputs": [],
   "source": [
    "def greet_user(name, age):\n",
    "    print(f'안녕하세요, {name}님! 당신은 {age}살입니다.')\n",
    "get_user_data = []\n",
    "print(\"이름 입력 : \", end = '')\n",
    "get_user_data.append(input())\n",
    "print(\"나이 입력 : \", end = '')\n",
    "get_user_data.append(input())\n",
    "greet_user(*get_user_data)"
   ]
  }
 ],
 "metadata": {
  "kernelspec": {
   "display_name": "Python 3",
   "language": "python",
   "name": "python3"
  },
  "language_info": {
   "codemirror_mode": {
    "name": "ipython",
    "version": 3
   },
   "file_extension": ".py",
   "mimetype": "text/x-python",
   "name": "python",
   "nbconvert_exporter": "python",
   "pygments_lexer": "ipython3",
   "version": "3.12.2"
  }
 },
 "nbformat": 4,
 "nbformat_minor": 2
}
