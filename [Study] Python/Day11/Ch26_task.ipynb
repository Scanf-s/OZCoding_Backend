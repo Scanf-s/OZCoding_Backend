{
 "cells": [
  {
   "cell_type": "markdown",
   "metadata": {},
   "source": [
    "0부터 시작하여 n까지의 숫자 중에서 홀수만 생성하는 제너레이터 odd_numbers를 작성하세요."
   ]
  },
  {
   "cell_type": "code",
   "execution_count": null,
   "metadata": {},
   "outputs": [],
   "source": [
    "def odd_number(n) -> list:\n",
    "    result = list()\n",
    "    for i in range(1, n + 1, 2):\n",
    "        result.append(i)\n",
    "    return result\n",
    "print(odd_number(3))\n",
    "print(odd_number(100))"
   ]
  }
 ],
 "metadata": {
  "language_info": {
   "name": "python"
  }
 },
 "nbformat": 4,
 "nbformat_minor": 2
}
