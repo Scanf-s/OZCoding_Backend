{
  "nbformat": 4,
  "nbformat_minor": 0,
  "metadata": {
    "colab": {
      "provenance": [],
      "authorship_tag": "ABX9TyONNq4tGdCTZjGqzoBGh6+O",
      "include_colab_link": true
    },
    "kernelspec": {
      "name": "python3",
      "display_name": "Python 3"
    },
    "language_info": {
      "name": "python"
    }
  },
  "cells": [
    {
      "cell_type": "markdown",
      "metadata": {
        "id": "view-in-github",
        "colab_type": "text"
      },
      "source": [
        "<a href=\"https://colab.research.google.com/github/Scanf-s/OZCoding_Backend/blob/main/Study_Python/Data_Analysis/seaborn_practice.ipynb\" target=\"_parent\"><img src=\"https://colab.research.google.com/assets/colab-badge.svg\" alt=\"Open In Colab\"/></a>"
      ]
    },
    {
      "cell_type": "code",
      "source": [
        "import seaborn as sns\n",
        "iris = sns.load_dataset('iris')"
      ],
      "metadata": {
        "id": "vSkWqonkeECN"
      },
      "execution_count": 32,
      "outputs": []
    },
    {
      "cell_type": "code",
      "source": [
        "# 1. 결측치 (0 또는 NaN) 제거\n",
        "iris.dropna(inplace=True)\n",
        "print(iris)"
      ],
      "metadata": {
        "colab": {
          "base_uri": "https://localhost:8080/"
        },
        "id": "dhhBFlL0eHr9",
        "outputId": "962022bd-9697-4fce-f3af-5717aeb7fb58"
      },
      "execution_count": 34,
      "outputs": [
        {
          "output_type": "stream",
          "name": "stdout",
          "text": [
            "     sepal_length  sepal_width  petal_length  petal_width    species\n",
            "0             5.1          3.5           1.4          0.2     setosa\n",
            "1             4.9          3.0           1.4          0.2     setosa\n",
            "2             4.7          3.2           1.3          0.2     setosa\n",
            "3             4.6          3.1           1.5          0.2     setosa\n",
            "4             5.0          3.6           1.4          0.2     setosa\n",
            "..            ...          ...           ...          ...        ...\n",
            "145           6.7          3.0           5.2          2.3  virginica\n",
            "146           6.3          2.5           5.0          1.9  virginica\n",
            "147           6.5          3.0           5.2          2.0  virginica\n",
            "148           6.2          3.4           5.4          2.3  virginica\n",
            "149           5.9          3.0           5.1          1.8  virginica\n",
            "\n",
            "[150 rows x 5 columns]\n"
          ]
        }
      ]
    },
    {
      "cell_type": "code",
      "source": [
        "# 2. 중복 행 제거\n",
        "iris.drop_duplicates(inplace=True)\n",
        "print(iris)"
      ],
      "metadata": {
        "colab": {
          "base_uri": "https://localhost:8080/"
        },
        "id": "7otQHboBeV6w",
        "outputId": "ecb62b39-d364-4ec0-8843-2ca3bb32c172"
      },
      "execution_count": 35,
      "outputs": [
        {
          "output_type": "stream",
          "name": "stdout",
          "text": [
            "     sepal_length  sepal_width  petal_length  petal_width    species\n",
            "0             5.1          3.5           1.4          0.2     setosa\n",
            "1             4.9          3.0           1.4          0.2     setosa\n",
            "2             4.7          3.2           1.3          0.2     setosa\n",
            "3             4.6          3.1           1.5          0.2     setosa\n",
            "4             5.0          3.6           1.4          0.2     setosa\n",
            "..            ...          ...           ...          ...        ...\n",
            "145           6.7          3.0           5.2          2.3  virginica\n",
            "146           6.3          2.5           5.0          1.9  virginica\n",
            "147           6.5          3.0           5.2          2.0  virginica\n",
            "148           6.2          3.4           5.4          2.3  virginica\n",
            "149           5.9          3.0           5.1          1.8  virginica\n",
            "\n",
            "[149 rows x 5 columns]\n"
          ]
        }
      ]
    },
    {
      "cell_type": "code",
      "source": [
        "# 3. 'petal_length'가 5보다 큰 행 선택\n",
        "print(iris[iris['petal_length'] > 5])"
      ],
      "metadata": {
        "colab": {
          "base_uri": "https://localhost:8080/"
        },
        "id": "CCcA5atNeeZC",
        "outputId": "0bfee0b5-98a1-42b9-943f-a303a743d2c5"
      },
      "execution_count": 36,
      "outputs": [
        {
          "output_type": "stream",
          "name": "stdout",
          "text": [
            "     sepal_length  sepal_width  petal_length  petal_width     species\n",
            "83            6.0          2.7           5.1          1.6  versicolor\n",
            "100           6.3          3.3           6.0          2.5   virginica\n",
            "101           5.8          2.7           5.1          1.9   virginica\n",
            "102           7.1          3.0           5.9          2.1   virginica\n",
            "103           6.3          2.9           5.6          1.8   virginica\n",
            "104           6.5          3.0           5.8          2.2   virginica\n",
            "105           7.6          3.0           6.6          2.1   virginica\n",
            "107           7.3          2.9           6.3          1.8   virginica\n",
            "108           6.7          2.5           5.8          1.8   virginica\n",
            "109           7.2          3.6           6.1          2.5   virginica\n",
            "110           6.5          3.2           5.1          2.0   virginica\n",
            "111           6.4          2.7           5.3          1.9   virginica\n",
            "112           6.8          3.0           5.5          2.1   virginica\n",
            "114           5.8          2.8           5.1          2.4   virginica\n",
            "115           6.4          3.2           5.3          2.3   virginica\n",
            "116           6.5          3.0           5.5          1.8   virginica\n",
            "117           7.7          3.8           6.7          2.2   virginica\n",
            "118           7.7          2.6           6.9          2.3   virginica\n",
            "120           6.9          3.2           5.7          2.3   virginica\n",
            "122           7.7          2.8           6.7          2.0   virginica\n",
            "124           6.7          3.3           5.7          2.1   virginica\n",
            "125           7.2          3.2           6.0          1.8   virginica\n",
            "128           6.4          2.8           5.6          2.1   virginica\n",
            "129           7.2          3.0           5.8          1.6   virginica\n",
            "130           7.4          2.8           6.1          1.9   virginica\n",
            "131           7.9          3.8           6.4          2.0   virginica\n",
            "132           6.4          2.8           5.6          2.2   virginica\n",
            "133           6.3          2.8           5.1          1.5   virginica\n",
            "134           6.1          2.6           5.6          1.4   virginica\n",
            "135           7.7          3.0           6.1          2.3   virginica\n",
            "136           6.3          3.4           5.6          2.4   virginica\n",
            "137           6.4          3.1           5.5          1.8   virginica\n",
            "139           6.9          3.1           5.4          2.1   virginica\n",
            "140           6.7          3.1           5.6          2.4   virginica\n",
            "141           6.9          3.1           5.1          2.3   virginica\n",
            "143           6.8          3.2           5.9          2.3   virginica\n",
            "144           6.7          3.3           5.7          2.5   virginica\n",
            "145           6.7          3.0           5.2          2.3   virginica\n",
            "147           6.5          3.0           5.2          2.0   virginica\n",
            "148           6.2          3.4           5.4          2.3   virginica\n",
            "149           5.9          3.0           5.1          1.8   virginica\n"
          ]
        }
      ]
    },
    {
      "cell_type": "code",
      "source": [
        "# 4. 'species'에 따라 데이터 그룹화\n",
        "iris2 = iris.groupby('species')\n",
        "print(iris2)"
      ],
      "metadata": {
        "colab": {
          "base_uri": "https://localhost:8080/"
        },
        "id": "All3p9oPen22",
        "outputId": "d059219f-26c2-4b52-910e-77a6ac0f0658"
      },
      "execution_count": 38,
      "outputs": [
        {
          "output_type": "stream",
          "name": "stdout",
          "text": [
            "<pandas.core.groupby.generic.DataFrameGroupBy object at 0x7a7167286680>\n"
          ]
        }
      ]
    },
    {
      "cell_type": "code",
      "source": [
        "# 5. 그룹화된 데이터에서 'sepal_length' 평균 계산\n",
        "\n",
        "avg = iris2['sepal_length'].mean()\n",
        "print(avg)"
      ],
      "metadata": {
        "colab": {
          "base_uri": "https://localhost:8080/"
        },
        "id": "dJ4wpmyIe8nD",
        "outputId": "de5e8be1-4c7c-43ef-a74c-1f9348c48c45"
      },
      "execution_count": 39,
      "outputs": [
        {
          "output_type": "stream",
          "name": "stdout",
          "text": [
            "species\n",
            "setosa        5.006000\n",
            "versicolor    5.936000\n",
            "virginica     6.604082\n",
            "Name: sepal_length, dtype: float64\n"
          ]
        }
      ]
    },
    {
      "cell_type": "code",
      "source": [
        "# 6. 'petal_length' 기준으로 오름차순 정렬\n",
        "iris.sort_values('petal_length', inplace=True)\n",
        "print(iris)"
      ],
      "metadata": {
        "colab": {
          "base_uri": "https://localhost:8080/"
        },
        "id": "9WZZJJIWfK6H",
        "outputId": "eb7cc311-ba55-49a6-efe0-2a0cca8cf9f9"
      },
      "execution_count": 42,
      "outputs": [
        {
          "output_type": "stream",
          "name": "stdout",
          "text": [
            "     sepal_length  sepal_width  petal_length  petal_width    species\n",
            "22            4.6          3.6           1.0          0.2     setosa\n",
            "13            4.3          3.0           1.1          0.1     setosa\n",
            "14            5.8          4.0           1.2          0.2     setosa\n",
            "35            5.0          3.2           1.2          0.2     setosa\n",
            "38            4.4          3.0           1.3          0.2     setosa\n",
            "..            ...          ...           ...          ...        ...\n",
            "131           7.9          3.8           6.4          2.0  virginica\n",
            "105           7.6          3.0           6.6          2.1  virginica\n",
            "122           7.7          2.8           6.7          2.0  virginica\n",
            "117           7.7          3.8           6.7          2.2  virginica\n",
            "118           7.7          2.6           6.9          2.3  virginica\n",
            "\n",
            "[149 rows x 5 columns]\n"
          ]
        }
      ]
    },
    {
      "cell_type": "code",
      "source": [
        "# 7. 'petal_width'를 기준으로 내림차순 정렬\n",
        "iris.sort_values('petal_width', ascending=False, inplace=True)\n",
        "print(iris)"
      ],
      "metadata": {
        "colab": {
          "base_uri": "https://localhost:8080/"
        },
        "id": "zi1Oskm5fg0_",
        "outputId": "fc220fec-1447-4838-ef18-7b21b3eef1ff"
      },
      "execution_count": 44,
      "outputs": [
        {
          "output_type": "stream",
          "name": "stdout",
          "text": [
            "     sepal_length  sepal_width  petal_length  petal_width    species\n",
            "109           7.2          3.6           6.1          2.5  virginica\n",
            "144           6.7          3.3           5.7          2.5  virginica\n",
            "100           6.3          3.3           6.0          2.5  virginica\n",
            "140           6.7          3.1           5.6          2.4  virginica\n",
            "136           6.3          3.4           5.6          2.4  virginica\n",
            "..            ...          ...           ...          ...        ...\n",
            "12            4.8          3.0           1.4          0.1     setosa\n",
            "9             4.9          3.1           1.5          0.1     setosa\n",
            "32            5.2          4.1           1.5          0.1     setosa\n",
            "37            4.9          3.6           1.4          0.1     setosa\n",
            "13            4.3          3.0           1.1          0.1     setosa\n",
            "\n",
            "[149 rows x 5 columns]\n"
          ]
        }
      ]
    },
    {
      "cell_type": "code",
      "source": [
        "# 8. 'species'의 빈도수\n",
        "print(iris['species'].value_counts())"
      ],
      "metadata": {
        "colab": {
          "base_uri": "https://localhost:8080/"
        },
        "id": "uJ_xVDb7fsv5",
        "outputId": "6240dfcf-7c25-4dbd-b679-c838761072cc"
      },
      "execution_count": 45,
      "outputs": [
        {
          "output_type": "stream",
          "name": "stdout",
          "text": [
            "species\n",
            "versicolor    50\n",
            "setosa        50\n",
            "virginica     49\n",
            "Name: count, dtype: int64\n"
          ]
        }
      ]
    },
    {
      "cell_type": "code",
      "source": [
        "# 9. 'species'값 중 'setosa'를 포함하는 행만 선택\n",
        "print(iris[iris['species'].str.contains('setosa')])"
      ],
      "metadata": {
        "colab": {
          "base_uri": "https://localhost:8080/"
        },
        "id": "4C370Io9f2YM",
        "outputId": "9dd33c26-4ca2-4956-a55d-d77f6620741a"
      },
      "execution_count": 47,
      "outputs": [
        {
          "output_type": "stream",
          "name": "stdout",
          "text": [
            "    sepal_length  sepal_width  petal_length  petal_width species\n",
            "43           5.0          3.5           1.6          0.6  setosa\n",
            "23           5.1          3.3           1.7          0.5  setosa\n",
            "15           5.7          4.4           1.5          0.4  setosa\n",
            "16           5.4          3.9           1.3          0.4  setosa\n",
            "21           5.1          3.7           1.5          0.4  setosa\n",
            "26           5.0          3.4           1.6          0.4  setosa\n",
            "31           5.4          3.4           1.5          0.4  setosa\n",
            "5            5.4          3.9           1.7          0.4  setosa\n",
            "44           5.1          3.8           1.9          0.4  setosa\n",
            "17           5.1          3.5           1.4          0.3  setosa\n",
            "18           5.7          3.8           1.7          0.3  setosa\n",
            "40           5.0          3.5           1.3          0.3  setosa\n",
            "19           5.1          3.8           1.5          0.3  setosa\n",
            "6            4.6          3.4           1.4          0.3  setosa\n",
            "41           4.5          2.3           1.3          0.3  setosa\n",
            "45           4.8          3.0           1.4          0.3  setosa\n",
            "49           5.0          3.3           1.4          0.2  setosa\n",
            "47           4.6          3.2           1.4          0.2  setosa\n",
            "4            5.0          3.6           1.4          0.2  setosa\n",
            "0            5.1          3.5           1.4          0.2  setosa\n",
            "29           4.7          3.2           1.6          0.2  setosa\n",
            "14           5.8          4.0           1.2          0.2  setosa\n",
            "28           5.2          3.4           1.4          0.2  setosa\n",
            "42           4.4          3.2           1.3          0.2  setosa\n",
            "2            4.7          3.2           1.3          0.2  setosa\n",
            "36           5.5          3.5           1.3          0.2  setosa\n",
            "38           4.4          3.0           1.3          0.2  setosa\n",
            "35           5.0          3.2           1.2          0.2  setosa\n",
            "8            4.4          2.9           1.4          0.2  setosa\n",
            "22           4.6          3.6           1.0          0.2  setosa\n",
            "48           5.3          3.7           1.5          0.2  setosa\n",
            "46           5.1          3.8           1.6          0.2  setosa\n",
            "33           5.5          4.2           1.4          0.2  setosa\n",
            "27           5.2          3.5           1.5          0.2  setosa\n",
            "39           5.1          3.4           1.5          0.2  setosa\n",
            "7            5.0          3.4           1.5          0.2  setosa\n",
            "24           4.8          3.4           1.9          0.2  setosa\n",
            "20           5.4          3.4           1.7          0.2  setosa\n",
            "34           4.9          3.1           1.5          0.2  setosa\n",
            "30           4.8          3.1           1.6          0.2  setosa\n",
            "1            4.9          3.0           1.4          0.2  setosa\n",
            "10           5.4          3.7           1.5          0.2  setosa\n",
            "3            4.6          3.1           1.5          0.2  setosa\n",
            "11           4.8          3.4           1.6          0.2  setosa\n",
            "25           5.0          3.0           1.6          0.2  setosa\n",
            "12           4.8          3.0           1.4          0.1  setosa\n",
            "9            4.9          3.1           1.5          0.1  setosa\n",
            "32           5.2          4.1           1.5          0.1  setosa\n",
            "37           4.9          3.6           1.4          0.1  setosa\n",
            "13           4.3          3.0           1.1          0.1  setosa\n"
          ]
        }
      ]
    },
    {
      "cell_type": "code",
      "source": [
        "# 10. 'species'값이 'setosa'로 시작하는 행 선택\n",
        "print(iris[iris['species'].str.startswith('setosa')])"
      ],
      "metadata": {
        "colab": {
          "base_uri": "https://localhost:8080/"
        },
        "id": "sj6PdeSbgJEE",
        "outputId": "2569f4f6-bac9-4f85-c0c7-857befb9b12a"
      },
      "execution_count": 48,
      "outputs": [
        {
          "output_type": "stream",
          "name": "stdout",
          "text": [
            "    sepal_length  sepal_width  petal_length  petal_width species\n",
            "43           5.0          3.5           1.6          0.6  setosa\n",
            "23           5.1          3.3           1.7          0.5  setosa\n",
            "15           5.7          4.4           1.5          0.4  setosa\n",
            "16           5.4          3.9           1.3          0.4  setosa\n",
            "21           5.1          3.7           1.5          0.4  setosa\n",
            "26           5.0          3.4           1.6          0.4  setosa\n",
            "31           5.4          3.4           1.5          0.4  setosa\n",
            "5            5.4          3.9           1.7          0.4  setosa\n",
            "44           5.1          3.8           1.9          0.4  setosa\n",
            "17           5.1          3.5           1.4          0.3  setosa\n",
            "18           5.7          3.8           1.7          0.3  setosa\n",
            "40           5.0          3.5           1.3          0.3  setosa\n",
            "19           5.1          3.8           1.5          0.3  setosa\n",
            "6            4.6          3.4           1.4          0.3  setosa\n",
            "41           4.5          2.3           1.3          0.3  setosa\n",
            "45           4.8          3.0           1.4          0.3  setosa\n",
            "49           5.0          3.3           1.4          0.2  setosa\n",
            "47           4.6          3.2           1.4          0.2  setosa\n",
            "4            5.0          3.6           1.4          0.2  setosa\n",
            "0            5.1          3.5           1.4          0.2  setosa\n",
            "29           4.7          3.2           1.6          0.2  setosa\n",
            "14           5.8          4.0           1.2          0.2  setosa\n",
            "28           5.2          3.4           1.4          0.2  setosa\n",
            "42           4.4          3.2           1.3          0.2  setosa\n",
            "2            4.7          3.2           1.3          0.2  setosa\n",
            "36           5.5          3.5           1.3          0.2  setosa\n",
            "38           4.4          3.0           1.3          0.2  setosa\n",
            "35           5.0          3.2           1.2          0.2  setosa\n",
            "8            4.4          2.9           1.4          0.2  setosa\n",
            "22           4.6          3.6           1.0          0.2  setosa\n",
            "48           5.3          3.7           1.5          0.2  setosa\n",
            "46           5.1          3.8           1.6          0.2  setosa\n",
            "33           5.5          4.2           1.4          0.2  setosa\n",
            "27           5.2          3.5           1.5          0.2  setosa\n",
            "39           5.1          3.4           1.5          0.2  setosa\n",
            "7            5.0          3.4           1.5          0.2  setosa\n",
            "24           4.8          3.4           1.9          0.2  setosa\n",
            "20           5.4          3.4           1.7          0.2  setosa\n",
            "34           4.9          3.1           1.5          0.2  setosa\n",
            "30           4.8          3.1           1.6          0.2  setosa\n",
            "1            4.9          3.0           1.4          0.2  setosa\n",
            "10           5.4          3.7           1.5          0.2  setosa\n",
            "3            4.6          3.1           1.5          0.2  setosa\n",
            "11           4.8          3.4           1.6          0.2  setosa\n",
            "25           5.0          3.0           1.6          0.2  setosa\n",
            "12           4.8          3.0           1.4          0.1  setosa\n",
            "9            4.9          3.1           1.5          0.1  setosa\n",
            "32           5.2          4.1           1.5          0.1  setosa\n",
            "37           4.9          3.6           1.4          0.1  setosa\n",
            "13           4.3          3.0           1.1          0.1  setosa\n"
          ]
        }
      ]
    },
    {
      "cell_type": "code",
      "source": [
        "# 11. 'species'값이 'virginica'로 끝나는 행 선택\n",
        "print(iris[iris['species'].str.endswith('virginica')])"
      ],
      "metadata": {
        "colab": {
          "base_uri": "https://localhost:8080/"
        },
        "id": "Fz_ZWYpqgVvu",
        "outputId": "621f236a-0b29-47a4-e6af-5f77c265614f"
      },
      "execution_count": 49,
      "outputs": [
        {
          "output_type": "stream",
          "name": "stdout",
          "text": [
            "     sepal_length  sepal_width  petal_length  petal_width    species\n",
            "109           7.2          3.6           6.1          2.5  virginica\n",
            "144           6.7          3.3           5.7          2.5  virginica\n",
            "100           6.3          3.3           6.0          2.5  virginica\n",
            "140           6.7          3.1           5.6          2.4  virginica\n",
            "136           6.3          3.4           5.6          2.4  virginica\n",
            "114           5.8          2.8           5.1          2.4  virginica\n",
            "118           7.7          2.6           6.9          2.3  virginica\n",
            "115           6.4          3.2           5.3          2.3  virginica\n",
            "148           6.2          3.4           5.4          2.3  virginica\n",
            "145           6.7          3.0           5.2          2.3  virginica\n",
            "135           7.7          3.0           6.1          2.3  virginica\n",
            "120           6.9          3.2           5.7          2.3  virginica\n",
            "141           6.9          3.1           5.1          2.3  virginica\n",
            "143           6.8          3.2           5.9          2.3  virginica\n",
            "132           6.4          2.8           5.6          2.2  virginica\n",
            "104           6.5          3.0           5.8          2.2  virginica\n",
            "117           7.7          3.8           6.7          2.2  virginica\n",
            "102           7.1          3.0           5.9          2.1  virginica\n",
            "124           6.7          3.3           5.7          2.1  virginica\n",
            "128           6.4          2.8           5.6          2.1  virginica\n",
            "105           7.6          3.0           6.6          2.1  virginica\n",
            "112           6.8          3.0           5.5          2.1  virginica\n",
            "139           6.9          3.1           5.4          2.1  virginica\n",
            "113           5.7          2.5           5.0          2.0  virginica\n",
            "121           5.6          2.8           4.9          2.0  virginica\n",
            "110           6.5          3.2           5.1          2.0  virginica\n",
            "131           7.9          3.8           6.4          2.0  virginica\n",
            "147           6.5          3.0           5.2          2.0  virginica\n",
            "122           7.7          2.8           6.7          2.0  virginica\n",
            "146           6.3          2.5           5.0          1.9  virginica\n",
            "111           6.4          2.7           5.3          1.9  virginica\n",
            "101           5.8          2.7           5.1          1.9  virginica\n",
            "130           7.4          2.8           6.1          1.9  virginica\n",
            "137           6.4          3.1           5.5          1.8  virginica\n",
            "125           7.2          3.2           6.0          1.8  virginica\n",
            "116           6.5          3.0           5.5          1.8  virginica\n",
            "138           6.0          3.0           4.8          1.8  virginica\n",
            "127           6.1          3.0           4.9          1.8  virginica\n",
            "107           7.3          2.9           6.3          1.8  virginica\n",
            "123           6.3          2.7           4.9          1.8  virginica\n",
            "126           6.2          2.8           4.8          1.8  virginica\n",
            "108           6.7          2.5           5.8          1.8  virginica\n",
            "103           6.3          2.9           5.6          1.8  virginica\n",
            "149           5.9          3.0           5.1          1.8  virginica\n",
            "106           4.9          2.5           4.5          1.7  virginica\n",
            "129           7.2          3.0           5.8          1.6  virginica\n",
            "133           6.3          2.8           5.1          1.5  virginica\n",
            "119           6.0          2.2           5.0          1.5  virginica\n",
            "134           6.1          2.6           5.6          1.4  virginica\n"
          ]
        }
      ]
    },
    {
      "cell_type": "code",
      "source": [
        "# 12. 'species'의 'setosa'를 'SETOSA'로 대체\n",
        "iris['species'] = iris['species'].str.replace('setosa', 'SETOSA')\n",
        "print(iris)"
      ],
      "metadata": {
        "colab": {
          "base_uri": "https://localhost:8080/"
        },
        "id": "4wGulIVPggoT",
        "outputId": "9ecbd270-fe31-434f-9806-88341f0a0609"
      },
      "execution_count": 51,
      "outputs": [
        {
          "output_type": "stream",
          "name": "stdout",
          "text": [
            "     sepal_length  sepal_width  petal_length  petal_width    species\n",
            "109           7.2          3.6           6.1          2.5  virginica\n",
            "144           6.7          3.3           5.7          2.5  virginica\n",
            "100           6.3          3.3           6.0          2.5  virginica\n",
            "140           6.7          3.1           5.6          2.4  virginica\n",
            "136           6.3          3.4           5.6          2.4  virginica\n",
            "..            ...          ...           ...          ...        ...\n",
            "12            4.8          3.0           1.4          0.1     SETOSA\n",
            "9             4.9          3.1           1.5          0.1     SETOSA\n",
            "32            5.2          4.1           1.5          0.1     SETOSA\n",
            "37            4.9          3.6           1.4          0.1     SETOSA\n",
            "13            4.3          3.0           1.1          0.1     SETOSA\n",
            "\n",
            "[149 rows x 5 columns]\n"
          ]
        }
      ]
    },
    {
      "cell_type": "code",
      "source": [
        "# 13. Iris 데이터셋에서 'species' 열 제거\n",
        "# axis = 0 : row // axis = 1 : column\n",
        "iris.drop('species', axis = 1, inplace=True)\n",
        "print(iris)"
      ],
      "metadata": {
        "colab": {
          "base_uri": "https://localhost:8080/"
        },
        "id": "zXwmzLhsgvcc",
        "outputId": "53a8969e-3daa-4323-8f9f-75da16edab58"
      },
      "execution_count": 54,
      "outputs": [
        {
          "output_type": "stream",
          "name": "stdout",
          "text": [
            "     sepal_length  sepal_width  petal_length  petal_width\n",
            "109           7.2          3.6           6.1          2.5\n",
            "144           6.7          3.3           5.7          2.5\n",
            "100           6.3          3.3           6.0          2.5\n",
            "140           6.7          3.1           5.6          2.4\n",
            "136           6.3          3.4           5.6          2.4\n",
            "..            ...          ...           ...          ...\n",
            "12            4.8          3.0           1.4          0.1\n",
            "9             4.9          3.1           1.5          0.1\n",
            "32            5.2          4.1           1.5          0.1\n",
            "37            4.9          3.6           1.4          0.1\n",
            "13            4.3          3.0           1.1          0.1\n",
            "\n",
            "[149 rows x 4 columns]\n"
          ]
        }
      ]
    }
  ]
}