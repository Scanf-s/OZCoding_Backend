{
 "cells": [
  {
   "cell_type": "markdown",
   "metadata": {},
   "source": [
    "문자열 리스트를 받아, 각 문자열의 길이를 출력하는 함수 print_lengths를 작성하세요."
   ]
  },
  {
   "cell_type": "code",
   "execution_count": 1,
   "metadata": {},
   "outputs": [
    {
     "data": {
      "text/plain": [
       "['asdfoighja의 길이 : 10',\n",
       " 'kihgfisfjg의 길이 : 10',\n",
       " 'fjgio의 길이 : 5',\n",
       " 'dijhfoasjhdiufja의 길이 : 16',\n",
       " 'lkvnblsdijkfgb의 길이 : 14',\n",
       " 'jfhngjk의 길이 : 7']"
      ]
     },
     "execution_count": 1,
     "metadata": {},
     "output_type": "execute_result"
    }
   ],
   "source": [
    "def print_lengths(strArr) -> list:\n",
    "    strlen = list()\n",
    "    for str in strArr:\n",
    "        strlen.append(f'{str}의 길이 : {len(str)}')\n",
    "    return strlen\n",
    "\n",
    "random_str = [\"asdfoighja\", \"kihgfisfjg\", \"fjgio\", \"dijhfoasjhdiufja\", \"lkvnblsdijkfgb\", \"jfhngjk\"]\n",
    "print_lengths(random_str)"
   ]
  }
 ],
 "metadata": {
  "kernelspec": {
   "display_name": "Python 3",
   "language": "python",
   "name": "python3"
  },
  "language_info": {
   "codemirror_mode": {
    "name": "ipython",
    "version": 3
   },
   "file_extension": ".py",
   "mimetype": "text/x-python",
   "name": "python",
   "nbconvert_exporter": "python",
   "pygments_lexer": "ipython3",
   "version": "3.12.2"
  }
 },
 "nbformat": 4,
 "nbformat_minor": 2
}
