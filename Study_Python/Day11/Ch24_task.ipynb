{
 "cells": [
  {
   "cell_type": "markdown",
   "metadata": {},
   "source": [
    "사용자의 이름, 나이, 성별을 출력하는 함수 print_info를 작성하세요. 이 때, 모든 매개변수는 키워드 매개변수로만 받도록 하세요."
   ]
  },
  {
   "cell_type": "code",
   "execution_count": 1,
   "metadata": {},
   "outputs": [
    {
     "name": "stdout",
     "output_type": "stream",
     "text": [
      "코딩님은 20살이고, 성별은 남성 입니다\n",
      "파이썬님은 20살이고, 성별은 여성 입니다\n"
     ]
    }
   ],
   "source": [
    "def print_info(name = \"익명\", age = None, gender = \"None\"):\n",
    "    print(f'{name}님은 {age}살이고, 성별은 {gender} 입니다')\n",
    "print_info(name = \"코딩\", gender=\"남성\", age=\"20\")\n",
    "print_info(gender = \"여성\", name = \"파이썬\", age=\"20\")"
   ]
  }
 ],
 "metadata": {
  "kernelspec": {
   "display_name": "Python 3",
   "language": "python",
   "name": "python3"
  },
  "language_info": {
   "codemirror_mode": {
    "name": "ipython",
    "version": 3
   },
   "file_extension": ".py",
   "mimetype": "text/x-python",
   "name": "python",
   "nbconvert_exporter": "python",
   "pygments_lexer": "ipython3",
   "version": "3.12.2"
  }
 },
 "nbformat": 4,
 "nbformat_minor": 2
}
