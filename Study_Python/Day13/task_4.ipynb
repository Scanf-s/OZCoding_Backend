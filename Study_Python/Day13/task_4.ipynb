{
 "cells": [
  {
   "cell_type": "markdown",
   "metadata": {},
   "source": [
    "[문제] \n",
    "\n",
    "'Employee' 클래스를 선언하세요. \n",
    "\n",
    "이 클래스는 월급인상률을 의미하는 클래스 변수로 'raise_amount'를 갖고 있으며, 기본값은 1.04입니다. 다음 급여는 기본 급여에 월급인상률을 곱한 값으로 결정합니다.\n",
    "\n",
    "또한, 각 직원의 이름(name)과 급여(salary)를 속성으로 가지며, 'apply_raise' 메소드를 통해 급여에 'raise_amount'를 적용할 수 있어야 합니다.\n",
    "\n",
    "'Employee' 클래스의 객체 두 개를 생성하고, 한 객체에만 'raise_amount'를 변경한 후, 두 객체의 급여를 증가시켜보세요.<br>\n",
    "그리고 각 객체의 새로운 급여를 출력하세요."
   ]
  },
  {
   "metadata": {
    "ExecuteTime": {
     "end_time": "2024-04-08T09:09:38.113507Z",
     "start_time": "2024-04-08T09:09:38.108700Z"
    }
   },
   "cell_type": "code",
   "source": [
    "class Employee:\n",
    "    def __init__(self, raise_amount=1.04, name=None, salary=None):\n",
    "        self.raise_amount = raise_amount\n",
    "        self.name = name\n",
    "        self.salary = salary\n",
    "    \n",
    "    def apply_raise(self):\n",
    "        self.salary = self.salary * self.raise_amount\n",
    "        \n",
    "    def __str__(self):\n",
    "        return f'이름 : {self.name}, 급여 : {self.salary}'\n",
    "\n",
    "emp1 = Employee(name='John', salary=1000)\n",
    "emp2 = Employee(name='Jack', salary=2000)\n",
    "emp1.apply_raise()\n",
    "\n",
    "print(emp1.__str__())\n",
    "print(emp2.__str__())"
   ],
   "outputs": [
    {
     "name": "stdout",
     "output_type": "stream",
     "text": [
      "이름 : John, 급여 : 1040.0\n",
      "이름 : Jack, 급여 : 2000\n"
     ]
    }
   ],
   "execution_count": 2
  }
 ],
 "metadata": {
  "language_info": {
   "name": "python"
  },
  "kernelspec": {
   "name": "python3",
   "language": "python",
   "display_name": "Python 3 (ipykernel)"
  }
 },
 "nbformat": 4,
 "nbformat_minor": 2
}
