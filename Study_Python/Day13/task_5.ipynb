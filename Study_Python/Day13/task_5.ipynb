{
 "cells": [
  {
   "cell_type": "markdown",
   "metadata": {},
   "source": [
    "[문제]\n",
    "\n",
    "'Account' 클래스를 작성하세요. \n",
    "\n",
    "이 클래스는 소유자(owner)와 잔액(balance)을 속성으로 가지며, 잔액은 프라이빗 변수로 선언합니다. \n",
    "\n",
    "'deposit'와 'withdraw' 두 개의 메소드를 통해 잔액을 조작할 수 있도록 하세요. \n",
    "\n",
    "이 때, 잔액은 음수가 될 수 없도록 체크해야 합니다. 'Account' 객체를 생성하고,<br>\n",
    "입금 및 출금 작업을 시뮬레이션한 후, 최종 잔액을 출력하세요."
   ]
  },
  {
   "metadata": {
    "ExecuteTime": {
     "end_time": "2024-04-08T09:16:12.212210Z",
     "start_time": "2024-04-08T09:16:12.207919Z"
    }
   },
   "cell_type": "code",
   "source": [
    "class Account:\n",
    "    __balance = 0\n",
    "    \n",
    "    def __init__(self, owner=None):\n",
    "        self.owner = owner\n",
    "    \n",
    "    def get_balance(self):\n",
    "        return f'{self.owner}님의 현재 계좌 잔액 : {self.__balance}'\n",
    "        \n",
    "    def deposit(self, amount):\n",
    "        if amount < 0:\n",
    "            raise ValueError\n",
    "        self.__balance += amount\n",
    "        return\n",
    "    \n",
    "    def withdraw(self, amount):\n",
    "        if amount > self.__balance or amount < 0:\n",
    "            raise ValueError\n",
    "        self.__balance -= amount\n",
    "        return\n",
    "    \n",
    "user1 = Account(owner=\"Scanf-s\")\n",
    "user1.deposit(100)\n",
    "print(user1.get_balance())\n",
    "user1.deposit(200)\n",
    "print(user1.get_balance())\n",
    "try:\n",
    "    user1.withdraw(400)\n",
    "except ValueError:\n",
    "    print(\"인출하려는 금액이 계좌 잔액보다 큽니다\")\n",
    "user1.withdraw(300)\n",
    "print(user1.get_balance())\n",
    "        "
   ],
   "outputs": [
    {
     "name": "stdout",
     "output_type": "stream",
     "text": [
      "Scanf-s님의 현재 계좌 잔액 : 100\n",
      "Scanf-s님의 현재 계좌 잔액 : 300\n",
      "인출하려는 금액이 계좌 잔액보다 큽니다\n",
      "Scanf-s님의 현재 계좌 잔액 : 0\n"
     ]
    }
   ],
   "execution_count": 3
  }
 ],
 "metadata": {
  "language_info": {
   "name": "python"
  },
  "kernelspec": {
   "name": "python3",
   "language": "python",
   "display_name": "Python 3 (ipykernel)"
  }
 },
 "nbformat": 4,
 "nbformat_minor": 2
}
