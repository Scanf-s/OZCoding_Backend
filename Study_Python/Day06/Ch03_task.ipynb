{
  "cells": [
    {
      "cell_type": "markdown",
      "metadata": {
        "id": "jsBirpY1w_0y"
      },
      "source": [
        "<span style=\"font-size:100%\">\n",
        "\n",
        "수업은 모두 열심히 들으셨나요?\n",
        "\n",
        "간혹 강의에서 언급되지 않은 내용이 문제로 나올 수 있습니다.<br>\n",
        "그럴땐 강의 내용 외 문제는 구글링을 통해 해결해주세요<br></span>\n",
        "<span style=\"font-size:80%\">\n",
        "(구글링 또한 개발자가 갖쳐야할 역량 중에 하나랍니다 😊)\n",
        "</span>\n",
        "\n",
        "---"
      ]
    },
    {
      "cell_type": "markdown",
      "metadata": {
        "id": "Ll79yKjQw_00"
      },
      "source": [
        "<span style=\"font-size:80%\">[문제1]<br><br></span>\n",
        "```주로 작성 중인 코드의 끝을 알리는 기호로 사용되며 파이썬에서 한 줄에 작성된 서로 다른 코드를 구분 지을 때 사용할 수 있는 기호를 골라주세요```\n",
        "\n",
        "1. ' , ' (쉼표)\n",
        "2. ' + ' (더하기 기호)\n",
        "3. ' ; ' (세미콜론)\n",
        "4. ' / ' (슬래시)"
      ]
    },
    {
      "cell_type": "markdown",
      "metadata": {
        "id": "mlJbL7JIw_00"
      },
      "source": [
        "<span style=\"color:red\">답변</span> :"
      ]
    },
    {
      "cell_type": "markdown",
      "metadata": {
        "id": "snI269Dcw_00"
      },
      "source": [
        ";"
      ]
    },
    {
      "cell_type": "markdown",
      "metadata": {
        "id": "4P-cC6B7w_00"
      },
      "source": [
        "----"
      ]
    },
    {
      "cell_type": "markdown",
      "metadata": {
        "id": "ZhtNP8U-w_00"
      },
      "source": [
        "<span style=\"font-size:80%\">[문제2]<br><br></span>\n",
        "```Python의 PEP 8은 무엇인지 설명하고 PEP 8의 핵심적인 규칙을 1개 이상을 설명해주세요```"
      ]
    },
    {
      "cell_type": "markdown",
      "metadata": {
        "id": "Xvk-T8gFw_01"
      },
      "source": [
        "<span style=\"color:red\">답변</span>"
      ]
    },
    {
      "cell_type": "markdown",
      "metadata": {
        "id": "BsM2_8AFw_01"
      },
      "source": [
        "PEP 8 : Python 코드를 작성할 때 지켜야 할 스타일 가이드.\n",
        "주로 가독성을 높이고, 파이선 개발자 커뮤니케이션 시 혼란을 주지 않도록 일관된 코딩 스타일을 유지하기 위해 제안됨.\n",
        "\n",
        "아주 중요한 규칙 >> 들여쓰기\n",
        "파이썬은 들여쓰기를 문법 자체로 사용하기 때문에, 들여쓰기 시 공백 4개를 사용해야 함."
      ]
    },
    {
      "cell_type": "markdown",
      "metadata": {
        "id": "7Kgec9zfw_01"
      },
      "source": [
        "----"
      ]
    },
    {
      "cell_type": "markdown",
      "metadata": {
        "id": "LdXLzlshw_01"
      },
      "source": [
        "<span style=\"font-size:80%\">[문제3]<br><br></span>\n",
        "```Python에서 \"#\"이 의마하는 것은 무엇인지 설명해주세요```"
      ]
    },
    {
      "cell_type": "markdown",
      "metadata": {
        "id": "PAZIHBCRw_01"
      },
      "source": [
        "<span style=\"color:red\">답변</span>"
      ]
    },
    {
      "cell_type": "markdown",
      "metadata": {
        "id": "VSgLEu9Zw_01"
      },
      "source": [
        "주석"
      ]
    },
    {
      "cell_type": "markdown",
      "metadata": {
        "id": "MtYcUoQSw_01"
      },
      "source": [
        "----"
      ]
    },
    {
      "cell_type": "markdown",
      "metadata": {
        "id": "NzBSkN8Yw_01"
      },
      "source": [
        "<span style=\"font-size:80%\">[문제4]<br><br></span>\n",
        "```Python의 들여쓰기 장점과 기능에 대해 설명해주세요```"
      ]
    },
    {
      "cell_type": "markdown",
      "metadata": {
        "id": "XVwY0Z26w_01"
      },
      "source": [
        "<span style=\"color:red\">답변</span>"
      ]
    },
    {
      "cell_type": "markdown",
      "metadata": {
        "id": "j7srGvPmw_01"
      },
      "source": [
        "들여쓰기를 통해 PEP 8 수칙을 지킬 수 있으며,  \n",
        "if, while, 함수와 같은 문법을 사용할 때  \n",
        "들여쓰기를 통해 내부 블록이 어디까지인지를 구별하는 기능을 한다."
      ]
    },
    {
      "cell_type": "markdown",
      "metadata": {
        "id": "F2JuptHBw_01"
      },
      "source": [
        "----"
      ]
    },
    {
      "cell_type": "markdown",
      "metadata": {
        "id": "5e3U6ZFiw_02"
      },
      "source": [
        "<span style=\"font-size:80%\">[문제5]<br><br></span>\n",
        "```print( )문의 기능 및 특징에 대해 설명해주세요```"
      ]
    },
    {
      "cell_type": "markdown",
      "metadata": {
        "id": "vhUObmBew_02"
      },
      "source": [
        "<span style=\"color:red\">답변</span>"
      ]
    },
    {
      "cell_type": "code",
      "execution_count": null,
      "metadata": {
        "vscode": {
          "languageId": "plaintext"
        },
        "id": "XWZ5a_nVw_02"
      },
      "outputs": [],
      "source": [
        "코드 연산에 대한 결과값을 바로 확인할 수 있는 출력 함수.\n",
        "print()에는 사용자가 출력하는 값 이외에도, 여러가지 편의 인수 속성들이 존재함."
      ]
    },
    {
      "cell_type": "markdown",
      "metadata": {
        "id": "bm1r-Iyhw_02"
      },
      "source": []
    }
  ],
  "metadata": {
    "language_info": {
      "name": "python"
    },
    "colab": {
      "provenance": []
    }
  },
  "nbformat": 4,
  "nbformat_minor": 0
}