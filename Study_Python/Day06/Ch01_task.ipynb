{
  "cells": [
    {
      "cell_type": "markdown",
      "metadata": {
        "id": "59Wt3wbpq3pF"
      },
      "source": [
        "<span style=\"font-size:100%\">\n",
        "\n",
        "수업은 모두 열심히 들으셨나요?\n",
        "\n",
        "간혹 강의에서 언급되지 않은 내용이 문제로 나올 수 있습니다.<br>\n",
        "그럴땐 강의 내용 외 문제는 구글링을 통해 해결해주세요<br></span>\n",
        "<span style=\"font-size:80%\">\n",
        "(구글링 또한 개발자가 갖쳐야할 역량 중에 하나랍니다 😊)\n",
        "</span>\n",
        "\n",
        "---"
      ]
    },
    {
      "cell_type": "markdown",
      "metadata": {
        "id": "wBXFokvlq3pG"
      },
      "source": [
        "<span style=\"font-size:80%\">[문제1]<br><br></span>\n",
        "```인터프리트 방식에 대해 설명하고 2개 이상의 장점을 설명해주세요```"
      ]
    },
    {
      "cell_type": "markdown",
      "metadata": {
        "id": "V8IB3-1Wq3pG"
      },
      "source": [
        "<span style=\"color:red\">답변</span>"
      ]
    },
    {
      "cell_type": "markdown",
      "metadata": {
        "id": "-xFMnBZLq3pG"
      },
      "source": [
        "인터프리트 방식은 전체 프로그램 코드가 아닌, 코드 한 줄 씩 읽고, 실행하는 방식이다.\n",
        "\n",
        "장점1. 실행 중, 오류 발생 시 바로 중단하므로 프로그래머가 빠르게 오류를 찾을 수 있다.\n",
        "\n",
        "장점2. 전체 코드 구조를 작성할 필요 없이, 필요한 코드만 작성하면 바로바로 결과를 받을 수 있어서, 초심자에게 매우 쉬운 언어이다."
      ]
    },
    {
      "cell_type": "markdown",
      "metadata": {
        "id": "LHOBw46Iq3pG"
      },
      "source": [
        "---"
      ]
    },
    {
      "cell_type": "markdown",
      "metadata": {
        "id": "5s3pSLWXq3pG"
      },
      "source": [
        "<span style=\"font-size:80%\">[문제2]<br><br></span>\n",
        "```동적 타입 방식의 장점과 단점을 간략히 설명해주세요```"
      ]
    },
    {
      "cell_type": "markdown",
      "metadata": {
        "id": "6n84StfZq3pH"
      },
      "source": [
        "<span style=\"color:red\">답변</span>"
      ]
    },
    {
      "cell_type": "markdown",
      "metadata": {
        "id": "8yE7qsdcq3pH"
      },
      "source": [
        "동적 타입 방식은 프로그램 실행 시 동적으로 변수의 타입이 결정되는 방식이다.\n",
        "\n",
        "이 방식은 변수의 타입 선언이 자유롭기 때문에, 코드가 간결해지며, 메모리 가용성이 증가하고, 프로그램의 성능을 최적화할 수 있다.\n",
        "\n",
        "하지만, 이 변수가 어떤 타입인지 추론하기 어려운 데이터에 대해서는 오류가 발생할 수 있다."
      ]
    },
    {
      "cell_type": "markdown",
      "metadata": {
        "id": "SM9-aOSMq3pH"
      },
      "source": [
        "---"
      ]
    },
    {
      "cell_type": "markdown",
      "metadata": {
        "id": "apMowx5Bq3pH"
      },
      "source": [
        "<span style=\"font-size:80%\">[문제3]<br><br></span>\n",
        "```Python으로 정적타입 방식의 코드를 작성할 수 있는 방법을 구글링을 통해 검색 후 설명해주세요```"
      ]
    },
    {
      "cell_type": "markdown",
      "metadata": {
        "id": "_LiVw35kq3pH"
      },
      "source": [
        "<span style=\"color:red\">답변</span>"
      ]
    },
    {
      "cell_type": "markdown",
      "metadata": {
        "id": "iltpw_Wbq3pH"
      },
      "source": [
        "age: int = 25\n",
        "is_Animal : bool = true\n",
        "\n",
        "위와 같이 {변수명} : {명시적 타입} = {명시적 타입에 맞는 값\n",
        "으로 정적 타입 변수를 선언하면 된다."
      ]
    },
    {
      "cell_type": "markdown",
      "metadata": {
        "id": "SGwCEsJKq3pH"
      },
      "source": [
        "---"
      ]
    },
    {
      "cell_type": "markdown",
      "metadata": {
        "id": "AK096tXFq3pH"
      },
      "source": [
        "<span style=\"font-size:80%\">[문제4]<br><br></span>\n",
        "```프로세스와 스레드의 차이점을 설명해주세요```"
      ]
    },
    {
      "cell_type": "markdown",
      "metadata": {
        "id": "v6tPgOskq3pH"
      },
      "source": [
        "<span style=\"color:red\">답변</span>"
      ]
    },
    {
      "cell_type": "markdown",
      "metadata": {
        "id": "NuGU8-8kq3pH"
      },
      "source": [
        "OS에서 어떠한 작업을 실행시키기 위해 자원을 할당 받는 경우 : 프로세스  \n",
        "프로세스가 할당 받은 자원을 나눠 사용하는 경우 : 쓰레드"
      ]
    },
    {
      "cell_type": "markdown",
      "metadata": {
        "id": "MgIa5AFzq3pI"
      },
      "source": [
        "---"
      ]
    },
    {
      "cell_type": "markdown",
      "metadata": {
        "id": "E5eD2dOqq3pI"
      },
      "source": [
        "<span style=\"font-size:80%\">[문제5]<br><br></span>\n",
        "```Python 2버전대와 3버전대의 차이를 설명해주세요```"
      ]
    },
    {
      "cell_type": "markdown",
      "metadata": {
        "id": "w2Zkb_fDq3pI"
      },
      "source": [
        "<span style=\"color:red\">답변</span>"
      ]
    },
    {
      "cell_type": "markdown",
      "metadata": {
        "id": "qQxntzjQq3pI"
      },
      "source": [
        "<img src=\"https://velog.velcdn.com/images%2Fnayoon-kim%2Fpost%2F3a8115cc-5643-4394-960c-41704919a63d%2Fimage.png\">\n",
        "\n",
        "<p>\n",
        "Python2는 기본적으로 문자열 처리를 할 때, ASCII로 저장한다.<br>  \n",
        "하지만 Python3 기본적으로 UNICODE를 통해 저장한다.<br>\n",
        "UNICODE는 우리가 컴퓨터에서 사용하는 대부분의 문자, 기호, 이모티콘 등을 사용할 수 있게 해주는 포맷이다.<br>\n",
        "따라서 Python3를 사용하는 것이 사용적인 측면에서 더 유리하다.</p>\n",
        "\n",
        "<p>\n",
        "또 Python2는 정수 나눗셈 시 발생하는 소수에 대해서, 자동으로 반올림을 해버리지만,<br> Python3에서는 소수점 발생 시 그대로 출력해준다.</p>"
      ]
    },
    {
      "cell_type": "markdown",
      "metadata": {
        "id": "9l_msQACq3pI"
      },
      "source": [
        "---"
      ]
    },
    {
      "cell_type": "markdown",
      "metadata": {
        "id": "qV-TTKpqq3pI"
      },
      "source": [
        "<span style=\"font-size:80%\">[문제6]<br><br></span>\n",
        "```Python에서 메모리 관리는 어떻게 이루어지는지 설명해주세요```"
      ]
    },
    {
      "cell_type": "markdown",
      "metadata": {
        "id": "k2ukj9kRq3pI"
      },
      "source": [
        "<span style=\"color:red\">답변</span>"
      ]
    },
    {
      "cell_type": "markdown",
      "metadata": {
        "id": "V3OBjXeTq3pI"
      },
      "source": [
        "파이썬은 자바처럼 자동으로 쓰이지 않는 메모리 사용에 대해서 처리를 해주는 **Garbage Collection**기능을 지원하여 사용하는 메모리 자원을 관리한다.\n",
        "\n",
        "예를 들어서, LinkedList 형태의 자료구조가 있다고 가정해보자.\n",
        "\n",
        "![image.png](data:image/png;base64,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)\"\n",
        "\n",
        "\n",
        "위 사진의 LinkedList 구조에는 3개의 Node가 존재한다.\n",
        "이때, 첫번째 Node에서 두번째 Node를 가리키는 포인터를 없애버리고, 세번째 Node를 가리키도록 변경했다고 가정하다.\n",
        "\n",
        "그렇다면, 두번째 Node를 가리키는 포인터가 존재하지 않으므로 어떠한 방법으로도 접근이 불가능하게 된다. (물론 메모리를 싹 다 뒤지면 찾을수는 있을지도 모른다)\n",
        "\n",
        "이러한 어떠한 방법으로도 접근할 수 없이 메모리만 차지하는 경우를 Garbage라고 하는데, Java와 Python은 이러한 Garbage가 발생 시, 자동으로 메모리 할당을 해제해버리는 기능을 수행한다.\n",
        "\n",
        "Python은 참조 카운팅 (어떤 객체를 가리키고 있는 pointer 저장 변수의 개수)가 0이 되면, Garbage로 판단하게 된다.\n",
        "\n",
        "이를 통해서 개발자는 C에서 동적으로 메모리를 할당한 내용을 직접 풀어줘야 해야했던 것과는 달리, 자동으로 삭제해주어 프로그래밍의 편의성을 크게 높이게 된다.\n"
      ]
    }
  ],
  "metadata": {
    "language_info": {
      "name": "python"
    },
    "colab": {
      "provenance": []
    }
  },
  "nbformat": 4,
  "nbformat_minor": 0
}